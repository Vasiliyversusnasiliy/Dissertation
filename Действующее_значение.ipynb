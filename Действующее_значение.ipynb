{
  "nbformat": 4,
  "nbformat_minor": 0,
  "metadata": {
    "colab": {
      "name": "Действующее значение.ipynb",
      "provenance": [],
      "collapsed_sections": [],
      "authorship_tag": "ABX9TyMD7eCSugRyy7N98oanLKdr"
    },
    "kernelspec": {
      "name": "python3",
      "display_name": "Python 3"
    }
  },
  "cells": [
    {
      "cell_type": "code",
      "metadata": {
        "id": "iIns-UWyNDfe",
        "colab_type": "code",
        "colab": {}
      },
      "source": [
        "import numpy as np"
      ],
      "execution_count": 0,
      "outputs": []
    },
    {
      "cell_type": "markdown",
      "metadata": {
        "id": "dezKuBUT-r2J",
        "colab_type": "text"
      },
      "source": [
        "Функция определения действующего значения"
      ]
    },
    {
      "cell_type": "code",
      "metadata": {
        "id": "7oaVzHYP-ri1",
        "colab_type": "code",
        "colab": {}
      },
      "source": [
        "def deistv(mgnoven,T,fs):\n",
        "  N=int(T*fs)\n",
        "  delta_t=1/fs\n",
        "  X=np.array([0]*N)\n",
        "  for i in range(N,len(mgnoven)):\n",
        "    d=0\n",
        "    for j in range(i-N,i):\n",
        "      d+=mgnoven[j]**2\n",
        "    X=np.append(X,((delta_t/T)**0.5)*(d**0.5))\n",
        "  return X"
      ],
      "execution_count": 0,
      "outputs": []
    }
  ]
}